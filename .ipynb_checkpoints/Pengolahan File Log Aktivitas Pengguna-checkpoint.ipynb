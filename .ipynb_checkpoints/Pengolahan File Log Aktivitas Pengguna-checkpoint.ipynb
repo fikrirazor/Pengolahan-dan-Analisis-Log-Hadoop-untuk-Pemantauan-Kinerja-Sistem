{
 "cells": [
  {
   "cell_type": "markdown",
   "id": "5a6f5f69-3c05-4ca6-9f15-b48412c242f9",
   "metadata": {},
   "source": [
    "# **Analisis Log Hadoop**\n",
    "\n",
    "Proyek analisis log sistem Hadoop untuk mengekstrak insight operasional"
   ]
  },
  {
   "cell_type": "markdown",
   "id": "857aaa98-be69-44a5-a582-dc7c383edf28",
   "metadata": {},
   "source": [
    "## **1. Konfigurasi dan Setup**"
   ]
  },
  {
   "cell_type": "code",
   "execution_count": 1,
   "id": "265c53a3-5d78-4489-b207-2dee88fc1d75",
   "metadata": {},
   "outputs": [],
   "source": [
    "import os\n",
    "import glob\n",
    "import pandas as pd\n",
    "from matplotlib import pyplot as plt"
   ]
  },
  {
   "cell_type": "markdown",
   "id": "781905d9-6e19-4aaf-9fd1-6af0d0bfbf0c",
   "metadata": {},
   "source": [
    "## **2. Ekstraksi Data**\n"
   ]
  },
  {
   "cell_type": "markdown",
   "id": "28830c8b-238f-4c1f-b429-ba94fa6581d4",
   "metadata": {},
   "source": [
    "Tahap pertama dalam proses ETL adalah Extract, yang bertujuan mengambil data mentah dari sumber aslinya. Dalam hal ini file Hadoop mapreduce job log agar dapat diolah lebih lanjut pada tahap Transform."
   ]
  },
  {
   "cell_type": "code",
   "execution_count": 18,
   "id": "1fcb4aa4-b721-4b68-9e59-335a55846928",
   "metadata": {},
   "outputs": [],
   "source": [
    "# dataset yang digunakan Hadoop mapreduce job log\n",
    "# Tentukan path dari dataset \n",
    "path = 'dataset/hadoop/'\n",
    "# Cek isi folder (untuk memastikan file log ada)\n",
    "files = glob.glob(os.path.join(path, '**/*.log'), recursive=True)\n",
    "#print(f\"File log yang ditemukan: {files}\")"
   ]
  },
  {
   "cell_type": "markdown",
   "id": "fc1115a1-7ccd-4c57-98f6-2cb3a1f5ea98",
   "metadata": {},
   "source": [
    "### **Mengambil semua log file**"
   ]
  },
  {
   "cell_type": "markdown",
   "id": "5fe83c55-5b2f-4cbc-be82-ec85f554b28b",
   "metadata": {},
   "source": [
    "Mendapatkan semua baris log dari berbagai file dan dimasukan ke list."
   ]
  },
  {
   "cell_type": "code",
   "execution_count": 3,
   "id": "31619a12-9700-4b4c-8ec5-61303ae4fe86",
   "metadata": {},
   "outputs": [],
   "source": [
    "def get_raw_logs(files):\n",
    "    \"\"\"\n",
    "    Mengambil semua raw log dari daftar file.\n",
    "    \"\"\"\n",
    "    \n",
    "    raw_logs = []\n",
    "\n",
    "    for file in files:\n",
    "        with open(file, 'r') as f:\n",
    "            for line in f:\n",
    "                line = line.strip()\n",
    "                if line:\n",
    "                    raw_logs.append(line)\n",
    "    return raw_logs\n",
    "\n",
    "raw_logs =  get_raw_logs(files)"
   ]
  },
  {
   "cell_type": "code",
   "execution_count": 4,
   "id": "5cb6e647-c4b2-4d17-a69f-31abc6aab16c",
   "metadata": {},
   "outputs": [],
   "source": [
    "df_raw = pd.DataFrame({'log_raw': raw_logs})\n",
    "df_raw.to_csv(\"log_raw.csv\", index=False)"
   ]
  },
  {
   "cell_type": "code",
   "execution_count": 33,
   "id": "faaa0266-cde1-4d95-8eb2-ac859bc380f2",
   "metadata": {},
   "outputs": [
    {
     "name": "stdout",
     "output_type": "stream",
     "text": [
      "2015-10-17 15:37:56,547 INFO [main] org.apache.hadoop.mapreduce.v2.app.MRAppMaster: Created MRAppMaster for application appattempt_1445062781478_0011_000001\n"
     ]
    }
   ],
   "source": [
    "print(raw_logs[0])"
   ]
  },
  {
   "cell_type": "markdown",
   "id": "59fd820b-8cd4-4c27-8fb3-8be7c0b9409b",
   "metadata": {},
   "source": [
    "# **2. Transform**"
   ]
  },
  {
   "cell_type": "code",
   "execution_count": 6,
   "id": "ff272c6e-571f-4276-b583-0aa5d67bf025",
   "metadata": {},
   "outputs": [
    {
     "name": "stdout",
     "output_type": "stream",
     "text": [
      "                 time level thread  \\\n",
      "0 2015-10-17 15:37:56  INFO   main   \n",
      "1 2015-10-17 15:37:56  INFO   main   \n",
      "2 2015-10-17 15:37:56  INFO   main   \n",
      "3 2015-10-17 15:37:57  INFO   main   \n",
      "4 2015-10-17 15:37:57  INFO   main   \n",
      "\n",
      "                                         log_class  \\\n",
      "0  org.apache.hadoop.mapreduce.v2.app.MRAppMaster:   \n",
      "1  org.apache.hadoop.mapreduce.v2.app.MRAppMaster:   \n",
      "2  org.apache.hadoop.mapreduce.v2.app.MRAppMaster:   \n",
      "3  org.apache.hadoop.mapreduce.v2.app.MRAppMaster:   \n",
      "4  org.apache.hadoop.mapreduce.v2.app.MRAppMaster:   \n",
      "\n",
      "                                             message  \n",
      "0  Created MRAppMaster for application appattempt...  \n",
      "1                             Executing with tokens:  \n",
      "2  Kind: YARN_AM_RM_TOKEN, Service: , Ident: (app...  \n",
      "3                      Using mapred newApiCommitter.  \n",
      "4                 OutputCommitter set in config null  \n"
     ]
    }
   ],
   "source": [
    "def parse_logs(raw_logs):\n",
    "    \"\"\"\n",
    "    Mem-parse raw logs menjadi beberapa kolom  kolom terpisah: \n",
    "    time, level, thread, log_class, dan message.\n",
    "\n",
    "    Args:\n",
    "        raw_logs (list): Daftar baris log mentah yang akan diparse.\n",
    "    \n",
    "    Returns:\n",
    "        tuple: Tuple berisi lima list:\n",
    "            - time (list): Waktu log.\n",
    "            - level (list): Level log (INFO, ERROR, dll.).\n",
    "            - thread (list): Thread log (dalam tanda [ ]).\n",
    "            - log_class (list): Class logger.\n",
    "            - message (list): Pesan log.\n",
    "    \"\"\"\n",
    "    time = []\n",
    "    level = []\n",
    "    thread = []\n",
    "    log_class = []\n",
    "    message = []\n",
    "\n",
    "    for line in raw_logs:\n",
    "        try:\n",
    "            parts = line.split(\" \")\n",
    "\n",
    "            # Pastikan minimal ada 5 part\n",
    "            if len(parts) < 5:\n",
    "                continue\n",
    "\n",
    "            # Format waktu: gabungan parts[0] dan parts[1]\n",
    "            time_str = parts[0].strip() + ' ' + parts[1].strip()\n",
    "\n",
    "            # Level log (INFO, ERROR, dst.)\n",
    "            level_str = parts[2].strip()\n",
    "\n",
    "            # Thread dalam tanda [ ]\n",
    "            if '[' in line and ']' in line:\n",
    "                thread_str = line.split('[')[1].split(']')[0]\n",
    "            else:\n",
    "                thread_str = None\n",
    "\n",
    "            # Class logger\n",
    "            log_class_str = parts[4].strip()\n",
    "\n",
    "            # Message: ambil bagian setelah 5 spasi pertama\n",
    "            msg = line.split(' ', 5)[-1].strip()\n",
    "\n",
    "            # Tambahkan ke list\n",
    "            time.append(time_str)\n",
    "            level.append(level_str)\n",
    "            thread.append(thread_str)\n",
    "            log_class.append(log_class_str)\n",
    "            message.append(msg)\n",
    "\n",
    "        except Exception as e:\n",
    "            print(f\"Baris gagal diparse:\\n{line}\\nError: {e}\")\n",
    "\n",
    "    return time, level, thread, log_class, message\n",
    "\n",
    "time, level, thread, log_class, message = parse_logs(raw_logs)\n",
    "\n",
    "# Buat DataFrame\n",
    "df = pd.DataFrame({\n",
    "    'time': time,\n",
    "    'level': level,\n",
    "    'thread': thread,\n",
    "    'log_class': log_class,\n",
    "    'message': message\n",
    "})\n",
    "\n",
    "# Parsing waktu\n",
    "df['time'] = pd.to_datetime(df['time'], format='mixed', errors='coerce')\n",
    "df = df.dropna(subset=['time'])\n",
    "\n",
    "# Tampilkan 5 baris awal\n",
    "print(df.head())"
   ]
  },
  {
   "cell_type": "markdown",
   "id": "2c57e526-08be-4b08-9c43-8d302a83345e",
   "metadata": {},
   "source": [
    "### Gunakan Sample"
   ]
  },
  {
   "cell_type": "code",
   "execution_count": 7,
   "id": "8629b66b-dc1c-4176-b907-a4a0a5d2f430",
   "metadata": {},
   "outputs": [],
   "source": [
    "# Misalkan file log pertama yang ditemukan\n",
    "#log_file = files[1]"
   ]
  },
  {
   "cell_type": "code",
   "execution_count": 8,
   "id": "a2b8fddc-7f22-4da1-a5d3-cc28381511be",
   "metadata": {},
   "outputs": [
    {
     "data": {
      "text/plain": [
       "'\\n# Buka dan baca beberapa baris pertama untuk melihat format file log\\nwith open(log_file, \\'r\\') as f:\\n    # Baca 10 baris pertama dari file log\\n    sample_lines = [f.readline() for _ in range(10)]\\n\\n# Tampilkan baris pertama\\n#print(\"Contoh beberapa baris pertama dari file log:\")\\n#for line in sample_lines:\\n#    print(line.strip())\\n\\ntime = []\\nlevel = []\\nthread = []\\nlog_class = []\\nmessage = []\\nfor line in sample_lines:\\n    parts = line.split(\" \")\\n    time.append(parts[0].strip() + \\' \\' + parts[1].strip())\\n    level.append(parts[2].strip())\\n    thread.append(line.split(\\'[\\')[1].split(\\']\\')[0])\\n    log_class.append(parts[4].strip())\\n    message.append(line.split(\\' \\',5)[-1])\\n\\ndf = pd.DataFrame({\\n    \\'time\\': time,\\n    \\'level\\': level,\\n    \\'thread\\': thread,\\n    \\'log_class\\': log_class,\\n    \\'message\\': message\\n})\\n\\ndf[\\'time\\'] = pd.to_datetime(df[\\'time\\'], format=\\'%Y-%m-%d %H:%M:%S,%f\\')\\n\\n\\ndf.head()\\n'"
      ]
     },
     "execution_count": 8,
     "metadata": {},
     "output_type": "execute_result"
    }
   ],
   "source": [
    "\"\"\"\n",
    "# Buka dan baca beberapa baris pertama untuk melihat format file log\n",
    "with open(log_file, 'r') as f:\n",
    "    # Baca 10 baris pertama dari file log\n",
    "    sample_lines = [f.readline() for _ in range(10)]\n",
    "\n",
    "# Tampilkan baris pertama\n",
    "#print(\"Contoh beberapa baris pertama dari file log:\")\n",
    "#for line in sample_lines:\n",
    "#    print(line.strip())\n",
    "\n",
    "time = []\n",
    "level = []\n",
    "thread = []\n",
    "log_class = []\n",
    "message = []\n",
    "for line in sample_lines:\n",
    "    parts = line.split(\" \")\n",
    "    time.append(parts[0].strip() + ' ' + parts[1].strip())\n",
    "    level.append(parts[2].strip())\n",
    "    thread.append(line.split('[')[1].split(']')[0])\n",
    "    log_class.append(parts[4].strip())\n",
    "    message.append(line.split(' ',5)[-1])\n",
    "\n",
    "df = pd.DataFrame({\n",
    "    'time': time,\n",
    "    'level': level,\n",
    "    'thread': thread,\n",
    "    'log_class': log_class,\n",
    "    'message': message\n",
    "})\n",
    "\n",
    "df['time'] = pd.to_datetime(df['time'], format='%Y-%m-%d %H:%M:%S,%f')\n",
    "\n",
    "\n",
    "df.head()\n",
    "\"\"\""
   ]
  },
  {
   "cell_type": "code",
   "execution_count": 9,
   "id": "500c5799-ef69-42cb-974b-24a0759c0c2f",
   "metadata": {},
   "outputs": [],
   "source": [
    "df['date'] = df['time'].dt.date"
   ]
  },
  {
   "cell_type": "markdown",
   "id": "33f775cf-5455-44bd-bb5e-4ae473e141ba",
   "metadata": {},
   "source": [
    "### **Pengelompokan Data Setelah Parsing**"
   ]
  },
  {
   "cell_type": "markdown",
   "id": "3e5b335c-0667-4edb-a74f-c6bee14149d7",
   "metadata": {},
   "source": [
    "melakukan pengelompokan data berdasarkan \n",
    "- aktivitas_per_hari\n",
    "- aktivitas_level_per_hari\n",
    "- jumlah_log_per_level\n",
    "- aktivitas_log (opsional: rolling mean)"
   ]
  },
  {
   "cell_type": "code",
   "execution_count": 10,
   "id": "ed7eaef7-3fe5-4e72-9e39-963427ff8e46",
   "metadata": {},
   "outputs": [
    {
     "data": {
      "text/html": [
       "<div>\n",
       "<style scoped>\n",
       "    .dataframe tbody tr th:only-of-type {\n",
       "        vertical-align: middle;\n",
       "    }\n",
       "\n",
       "    .dataframe tbody tr th {\n",
       "        vertical-align: top;\n",
       "    }\n",
       "\n",
       "    .dataframe thead th {\n",
       "        text-align: right;\n",
       "    }\n",
       "</style>\n",
       "<table border=\"1\" class=\"dataframe\">\n",
       "  <thead>\n",
       "    <tr style=\"text-align: right;\">\n",
       "      <th></th>\n",
       "      <th>date</th>\n",
       "      <th>jumlah_log</th>\n",
       "    </tr>\n",
       "  </thead>\n",
       "  <tbody>\n",
       "    <tr>\n",
       "      <th>0</th>\n",
       "      <td>2015-10-17</td>\n",
       "      <td>97276</td>\n",
       "    </tr>\n",
       "    <tr>\n",
       "      <th>1</th>\n",
       "      <td>2015-10-18</td>\n",
       "      <td>39356</td>\n",
       "    </tr>\n",
       "    <tr>\n",
       "      <th>2</th>\n",
       "      <td>2015-10-19</td>\n",
       "      <td>44265</td>\n",
       "    </tr>\n",
       "  </tbody>\n",
       "</table>\n",
       "</div>"
      ],
      "text/plain": [
       "         date  jumlah_log\n",
       "0  2015-10-17       97276\n",
       "1  2015-10-18       39356\n",
       "2  2015-10-19       44265"
      ]
     },
     "execution_count": 10,
     "metadata": {},
     "output_type": "execute_result"
    }
   ],
   "source": [
    "aktivitas_per_hari = df.groupby(['date']).size().reset_index(name='jumlah_log')\n",
    "aktivitas_per_hari"
   ]
  },
  {
   "cell_type": "code",
   "execution_count": 11,
   "id": "d29ddfe0-8199-4ef3-beaa-ecc86898c462",
   "metadata": {},
   "outputs": [
    {
     "data": {
      "text/html": [
       "<div>\n",
       "<style scoped>\n",
       "    .dataframe tbody tr th:only-of-type {\n",
       "        vertical-align: middle;\n",
       "    }\n",
       "\n",
       "    .dataframe tbody tr th {\n",
       "        vertical-align: top;\n",
       "    }\n",
       "\n",
       "    .dataframe thead th {\n",
       "        text-align: right;\n",
       "    }\n",
       "</style>\n",
       "<table border=\"1\" class=\"dataframe\">\n",
       "  <thead>\n",
       "    <tr style=\"text-align: right;\">\n",
       "      <th></th>\n",
       "      <th>date</th>\n",
       "      <th>level</th>\n",
       "      <th>jumlah_log</th>\n",
       "    </tr>\n",
       "  </thead>\n",
       "  <tbody>\n",
       "    <tr>\n",
       "      <th>0</th>\n",
       "      <td>2015-10-17</td>\n",
       "      <td>ERROR</td>\n",
       "      <td>21</td>\n",
       "    </tr>\n",
       "    <tr>\n",
       "      <th>1</th>\n",
       "      <td>2015-10-17</td>\n",
       "      <td>INFO</td>\n",
       "      <td>97037</td>\n",
       "    </tr>\n",
       "    <tr>\n",
       "      <th>2</th>\n",
       "      <td>2015-10-17</td>\n",
       "      <td>WARN</td>\n",
       "      <td>218</td>\n",
       "    </tr>\n",
       "    <tr>\n",
       "      <th>3</th>\n",
       "      <td>2015-10-18</td>\n",
       "      <td>ERROR</td>\n",
       "      <td>492</td>\n",
       "    </tr>\n",
       "    <tr>\n",
       "      <th>4</th>\n",
       "      <td>2015-10-18</td>\n",
       "      <td>FATAL</td>\n",
       "      <td>2</td>\n",
       "    </tr>\n",
       "    <tr>\n",
       "      <th>5</th>\n",
       "      <td>2015-10-18</td>\n",
       "      <td>INFO</td>\n",
       "      <td>27712</td>\n",
       "    </tr>\n",
       "    <tr>\n",
       "      <th>6</th>\n",
       "      <td>2015-10-18</td>\n",
       "      <td>WARN</td>\n",
       "      <td>11150</td>\n",
       "    </tr>\n",
       "    <tr>\n",
       "      <th>7</th>\n",
       "      <td>2015-10-19</td>\n",
       "      <td>ERROR</td>\n",
       "      <td>8</td>\n",
       "    </tr>\n",
       "    <tr>\n",
       "      <th>8</th>\n",
       "      <td>2015-10-19</td>\n",
       "      <td>FATAL</td>\n",
       "      <td>15</td>\n",
       "    </tr>\n",
       "    <tr>\n",
       "      <th>9</th>\n",
       "      <td>2015-10-19</td>\n",
       "      <td>INFO</td>\n",
       "      <td>44172</td>\n",
       "    </tr>\n",
       "    <tr>\n",
       "      <th>10</th>\n",
       "      <td>2015-10-19</td>\n",
       "      <td>WARN</td>\n",
       "      <td>70</td>\n",
       "    </tr>\n",
       "  </tbody>\n",
       "</table>\n",
       "</div>"
      ],
      "text/plain": [
       "          date  level  jumlah_log\n",
       "0   2015-10-17  ERROR          21\n",
       "1   2015-10-17   INFO       97037\n",
       "2   2015-10-17   WARN         218\n",
       "3   2015-10-18  ERROR         492\n",
       "4   2015-10-18  FATAL           2\n",
       "5   2015-10-18   INFO       27712\n",
       "6   2015-10-18   WARN       11150\n",
       "7   2015-10-19  ERROR           8\n",
       "8   2015-10-19  FATAL          15\n",
       "9   2015-10-19   INFO       44172\n",
       "10  2015-10-19   WARN          70"
      ]
     },
     "execution_count": 11,
     "metadata": {},
     "output_type": "execute_result"
    }
   ],
   "source": [
    "aktivitas_level_per_hari = df.groupby(['date', 'level']).size().reset_index(name='jumlah_log')\n",
    "aktivitas_level_per_hari"
   ]
  },
  {
   "cell_type": "code",
   "execution_count": 12,
   "id": "37cf5ec9-6196-4f88-8a04-dcf3446f6464",
   "metadata": {},
   "outputs": [
    {
     "data": {
      "text/plain": [
       "level\n",
       "INFO     168921\n",
       "WARN      11438\n",
       "ERROR       521\n",
       "FATAL        17\n",
       "Name: count, dtype: int64"
      ]
     },
     "execution_count": 12,
     "metadata": {},
     "output_type": "execute_result"
    }
   ],
   "source": [
    "jumlah_log_per_level = df['level'].value_counts()\n",
    "jumlah_log_per_level"
   ]
  },
  {
   "cell_type": "code",
   "execution_count": 13,
   "id": "1a53e217-4ef9-4569-afd4-b649b1540f8e",
   "metadata": {},
   "outputs": [
    {
     "data": {
      "text/plain": [
       "time\n",
       "2015-10-17 15:00:00    14775\n",
       "2015-10-17 16:00:00     9169\n",
       "2015-10-17 17:00:00     9689\n",
       "2015-10-17 18:00:00    12324\n",
       "2015-10-17 19:00:00        0\n",
       "2015-10-17 20:00:00        0\n",
       "2015-10-17 21:00:00    21037\n",
       "2015-10-17 22:00:00    13680\n",
       "2015-10-17 23:00:00    16602\n",
       "2015-10-18 00:00:00        0\n",
       "2015-10-18 01:00:00        0\n",
       "2015-10-18 02:00:00        0\n",
       "2015-10-18 03:00:00        0\n",
       "2015-10-18 04:00:00        0\n",
       "2015-10-18 05:00:00        0\n",
       "2015-10-18 06:00:00        0\n",
       "2015-10-18 07:00:00        0\n",
       "2015-10-18 08:00:00        0\n",
       "2015-10-18 09:00:00        0\n",
       "2015-10-18 10:00:00        0\n",
       "2015-10-18 11:00:00        0\n",
       "2015-10-18 12:00:00        0\n",
       "2015-10-18 13:00:00        0\n",
       "2015-10-18 14:00:00        0\n",
       "2015-10-18 15:00:00        0\n",
       "2015-10-18 16:00:00        0\n",
       "2015-10-18 17:00:00        0\n",
       "2015-10-18 18:00:00    22833\n",
       "2015-10-18 19:00:00        0\n",
       "2015-10-18 20:00:00        0\n",
       "2015-10-18 21:00:00    14073\n",
       "2015-10-18 22:00:00     2450\n",
       "2015-10-18 23:00:00        0\n",
       "2015-10-19 00:00:00        0\n",
       "2015-10-19 01:00:00        0\n",
       "2015-10-19 02:00:00        0\n",
       "2015-10-19 03:00:00        0\n",
       "2015-10-19 04:00:00        0\n",
       "2015-10-19 05:00:00        0\n",
       "2015-10-19 06:00:00        0\n",
       "2015-10-19 07:00:00        0\n",
       "2015-10-19 08:00:00        0\n",
       "2015-10-19 09:00:00        0\n",
       "2015-10-19 10:00:00        0\n",
       "2015-10-19 11:00:00        0\n",
       "2015-10-19 12:00:00        0\n",
       "2015-10-19 13:00:00        0\n",
       "2015-10-19 14:00:00    13980\n",
       "2015-10-19 15:00:00    13031\n",
       "2015-10-19 16:00:00      936\n",
       "2015-10-19 17:00:00    14849\n",
       "2015-10-19 18:00:00     1469\n",
       "Freq: h, dtype: int64"
      ]
     },
     "execution_count": 13,
     "metadata": {},
     "output_type": "execute_result"
    }
   ],
   "source": [
    "aktivitas_log = df.set_index('time').resample('h').size()\n",
    "aktivitas_log"
   ]
  },
  {
   "cell_type": "markdown",
   "id": "9b0d8a20-0b22-455d-91e9-6284c64f47b6",
   "metadata": {},
   "source": [
    "# **3. Load**"
   ]
  },
  {
   "cell_type": "code",
   "execution_count": 14,
   "id": "205f0139-01be-4a7d-8c6d-170327743d0d",
   "metadata": {},
   "outputs": [],
   "source": [
    "aktivitas_per_hari.to_csv(\"aktivitas_per_hari.csv\", index=False)\n",
    "aktivitas_level_per_hari.to_csv(\"aktivitas_per_hari_berdasarkan_level.csv\", index=False)\n",
    "jumlah_log_per_level.to_csv(\"jumlah_log_per_level.csv\", index=False)\n",
    "aktivitas_log.to_csv(\"aktivitas_log.csv\", index=False)"
   ]
  },
  {
   "cell_type": "markdown",
   "id": "c1c6743d-1edc-40c5-8bdd-1b0c98653250",
   "metadata": {},
   "source": [
    "# **4. Visiualize**"
   ]
  },
  {
   "cell_type": "markdown",
   "id": "05670d49-5b8b-4894-8c47-1387486801d0",
   "metadata": {},
   "source": [
    "#### **Jumlah Log Aktivitas Per Hari**"
   ]
  },
  {
   "cell_type": "code",
   "execution_count": 15,
   "id": "94b03409-5a9e-470b-8c9f-d083ab71e70d",
   "metadata": {},
   "outputs": [
    {
     "data": {
      "image/png": "[encoded data removed]",
      "text/plain": [
       "<Figure size 1000x500 with 1 Axes>"
      ]
     },
     "metadata": {},
     "output_type": "display_data"
    }
   ],
   "source": [
    "aktivitas_per_hari.plot(x='date', y='jumlah_log', kind='bar', figsize=(10,5))\n",
    "plt.title(\"Jumlah Log Aktivitas per Hari\")\n",
    "plt.xlabel(\"Tanggal\")\n",
    "plt.ylabel(\"Jumlah Log\")\n",
    "plt.xticks(rotation=45)\n",
    "plt.tight_layout()\n",
    "plt.show()"
   ]
  },
  {
   "cell_type": "markdown",
   "id": "d8480da9-4952-4eee-ad27-f1eabe155e5b",
   "metadata": {},
   "source": [
    "#### **Aktivitas level per hari**"
   ]
  },
  {
   "cell_type": "code",
   "execution_count": 19,
   "id": "c271ef6d-9f1b-4217-8c37-c7a9a42829c1",
   "metadata": {},
   "outputs": [
    {
     "data": {
      "image/png": "[encoded data removed]",
      "text/plain": [
       "<Figure size 1000x600 with 1 Axes>"
      ]
     },
     "metadata": {},
     "output_type": "display_data"
    }
   ],
   "source": [
    "pivot = aktivitas_level_per_hari.pivot(index='date', columns='level', values='jumlah_log').fillna(0)\n",
    "pivot.plot(kind='bar', stacked=True, figsize=(10,6))\n",
    "plt.title(\"Log Level per Hari\")\n",
    "plt.xlabel(\"Tanggal\")\n",
    "plt.ylabel(\"Jumlah Log\")\n",
    "plt.xticks(rotation=45)\n",
    "plt.legend(title=\"Level\")\n",
    "plt.tight_layout()\n",
    "plt.show()\n"
   ]
  },
  {
   "cell_type": "markdown",
   "id": "17e4063f-d896-4237-8ede-9aa4ade2b133",
   "metadata": {},
   "source": [
    "Level log per hari tanpa level **INFO**"
   ]
  },
  {
   "cell_type": "code",
   "execution_count": 20,
   "id": "5bde42f0-534f-4e68-9806-c8bdbdcd91e2",
   "metadata": {},
   "outputs": [
    {
     "data": {
      "image/png": "[encoded data removed]",
      "text/plain": [
       "<Figure size 1000x600 with 1 Axes>"
      ]
     },
     "metadata": {},
     "output_type": "display_data"
    }
   ],
   "source": [
    "# Filter data untuk mengecualikan level 'INFO'\n",
    "filtered_df = aktivitas_level_per_hari[aktivitas_level_per_hari['level'] != 'INFO']\n",
    "\n",
    "# Pivot data yang sudah difilter\n",
    "pivot = filtered_df.pivot(index='date', columns='level', values='jumlah_log').fillna(0)\n",
    "\n",
    "# Plot stacked bar\n",
    "pivot.plot(kind='bar', stacked=True, figsize=(10,6))\n",
    "plt.title(\"Log Level per Hari (Tanpa INFO)\")\n",
    "plt.xlabel(\"Tanggal\")\n",
    "plt.ylabel(\"Jumlah Log\")\n",
    "plt.xticks(rotation=45)\n",
    "plt.legend(title=\"Level\")\n",
    "plt.tight_layout()\n",
    "plt.show()\n"
   ]
  },
  {
   "cell_type": "markdown",
   "id": "ce8e6f2a-58df-4876-9a43-08cb817addcb",
   "metadata": {},
   "source": [
    "### **Melihat Aktivitas Log**"
   ]
  },
  {
   "cell_type": "code",
   "execution_count": 21,
   "id": "a94b35b8-b810-4195-9612-38107267d59b",
   "metadata": {},
   "outputs": [
    {
     "data": {
      "text/plain": [
       "pandas._libs.tslibs.timestamps.Timestamp"
      ]
     },
     "execution_count": 21,
     "metadata": {},
     "output_type": "execute_result"
    }
   ],
   "source": [
    "type(df.time[0])"
   ]
  },
  {
   "cell_type": "code",
   "execution_count": 22,
   "id": "077f9dab-80d5-4972-b74e-e929478a4d02",
   "metadata": {},
   "outputs": [
    {
     "name": "stdout",
     "output_type": "stream",
     "text": [
      "15\n"
     ]
    }
   ],
   "source": [
    "print(df['time'].dt.floor('h').nunique())"
   ]
  },
  {
   "cell_type": "code",
   "execution_count": 24,
   "id": "ac5e2afa-4a50-4220-8f11-1bf41de5cb4f",
   "metadata": {},
   "outputs": [
    {
     "data": {
      "image/png": "[encoded data removed]",
      "text/plain": [
       "<Figure size 640x480 with 1 Axes>"
      ]
     },
     "metadata": {},
     "output_type": "display_data"
    }
   ],
   "source": [
    "aktivitas_log.plot(marker='o')\n",
    "plt.title('Aktivitas Log per Jam')\n",
    "plt.xlabel('Waktu')\n",
    "plt.ylabel('Jumlah Log')\n",
    "plt.show()"
   ]
  },
  {
   "cell_type": "code",
   "execution_count": null,
   "id": "ecdf3752-a898-404e-a51f-03b6961f7f04",
   "metadata": {},
   "outputs": [],
   "source": []
  }
 ],
 "metadata": {
  "kernelspec": {
   "display_name": "Python 3 (ipykernel)",
   "language": "python",
   "name": "python3"
  },
  "language_info": {
   "codemirror_mode": {
    "name": "ipython",
    "version": 3
   },
   "file_extension": ".py",
   "mimetype": "text/x-python",
   "name": "python",
   "nbconvert_exporter": "python",
   "pygments_lexer": "ipython3",
   "version": "3.12.9"
  }
 },
 "nbformat": 4,
 "nbformat_minor": 5
}
