{
 "cells": [
  {
   "cell_type": "markdown",
   "id": "5a6f5f69-3c05-4ca6-9f15-b48412c242f9",
   "metadata": {},
   "source": [
    "# Analisis Log Hadoop\n",
    "\n",
    "Proyek analisis log sistem Hadoop untuk mengekstrak insight operasional"
   ]
  },
  {
   "cell_type": "markdown",
   "id": "857aaa98-be69-44a5-a582-dc7c383edf28",
   "metadata": {},
   "source": [
    "## 1. Konfigurasi dan Setup"
   ]
  },
  {
   "cell_type": "code",
   "execution_count": 1,
   "id": "265c53a3-5d78-4489-b207-2dee88fc1d75",
   "metadata": {},
   "outputs": [],
   "source": [
    "import os\n",
    "import glob\n",
    "import pandas as pd\n",
    "from matplotlib import pyplot as plt"
   ]
  },
  {
   "cell_type": "markdown",
   "id": "781905d9-6e19-4aaf-9fd1-6af0d0bfbf0c",
   "metadata": {},
   "source": [
    "## 2. Ekstraksi Data\n"
   ]
  },
  {
   "cell_type": "code",
   "execution_count": 2,
   "id": "1fcb4aa4-b721-4b68-9e59-335a55846928",
   "metadata": {},
   "outputs": [],
   "source": [
    "# Tentukan path dari dataset \n",
    "path = 'dataset/hadoop/'"
   ]
  },
  {
   "cell_type": "code",
   "execution_count": 3,
   "id": "b01e3397-7591-48e3-8a51-5ffdb5a868d7",
   "metadata": {},
   "outputs": [],
   "source": [
    "# Cek isi folder (untuk memastikan file log ada)\n",
    "files = glob.glob(os.path.join(path, '**/*.log'), recursive=True)\n",
    "#print(f\"File log yang ditemukan: {files}\")"
   ]
  },
  {
   "cell_type": "markdown",
   "id": "fc1115a1-7ccd-4c57-98f6-2cb3a1f5ea98",
   "metadata": {},
   "source": [
    "### Gunakan Semua File"
   ]
  },
  {
   "cell_type": "code",
   "execution_count": 5,
   "id": "31619a12-9700-4b4c-8ec5-61303ae4fe86",
   "metadata": {},
   "outputs": [],
   "source": [
    "def get_raw_logs(files):\n",
    "    \"\"\"\n",
    "    Mengambil semua raw log dari daftar file.\n",
    "    \"\"\"\n",
    "    \n",
    "    raw_logs = []\n",
    "\n",
    "    for file in files:\n",
    "        with open(file, 'r') as f:\n",
    "            for line in f:\n",
    "                line = line.strip()\n",
    "                if line:\n",
    "                    raw_logs.append(line)\n",
    "    return raw_logs\n",
    "\n",
    "raw_logs =  get_raw_logs(files)"
   ]
  },
  {
   "cell_type": "code",
   "execution_count": 7,
   "id": "ff272c6e-571f-4276-b583-0aa5d67bf025",
   "metadata": {},
   "outputs": [
    {
     "name": "stdout",
     "output_type": "stream",
     "text": [
      "                 time level thread  \\\n",
      "0 2015-10-17 15:37:56  INFO   main   \n",
      "1 2015-10-17 15:37:56  INFO   main   \n",
      "2 2015-10-17 15:37:56  INFO   main   \n",
      "3 2015-10-17 15:37:57  INFO   main   \n",
      "4 2015-10-17 15:37:57  INFO   main   \n",
      "\n",
      "                                         log_class  \\\n",
      "0  org.apache.hadoop.mapreduce.v2.app.MRAppMaster:   \n",
      "1  org.apache.hadoop.mapreduce.v2.app.MRAppMaster:   \n",
      "2  org.apache.hadoop.mapreduce.v2.app.MRAppMaster:   \n",
      "3  org.apache.hadoop.mapreduce.v2.app.MRAppMaster:   \n",
      "4  org.apache.hadoop.mapreduce.v2.app.MRAppMaster:   \n",
      "\n",
      "                                             message  \n",
      "0  Created MRAppMaster for application appattempt...  \n",
      "1                             Executing with tokens:  \n",
      "2  Kind: YARN_AM_RM_TOKEN, Service: , Ident: (app...  \n",
      "3                      Using mapred newApiCommitter.  \n",
      "4                 OutputCommitter set in config null  \n"
     ]
    }
   ],
   "source": [
    "def parse_logs(raw_logs):\n",
    "    \"\"\"\n",
    "    Mem-parse raw logs menjadi beberapa kolom  kolom terpisah: \n",
    "    time, level, thread, log_class, dan message.\n",
    "\n",
    "    Args:\n",
    "        raw_logs (list): Daftar baris log mentah yang akan diparse.\n",
    "    \n",
    "    Returns:\n",
    "        tuple: Tuple berisi lima list:\n",
    "            - time (list): Waktu log.\n",
    "            - level (list): Level log (INFO, ERROR, dll.).\n",
    "            - thread (list): Thread log (dalam tanda [ ]).\n",
    "            - log_class (list): Class logger.\n",
    "            - message (list): Pesan log.\n",
    "    \"\"\"\n",
    "    time = []\n",
    "    level = []\n",
    "    thread = []\n",
    "    log_class = []\n",
    "    message = []\n",
    "\n",
    "    for line in raw_logs:\n",
    "        try:\n",
    "            parts = line.split(\" \")\n",
    "\n",
    "            # Pastikan minimal ada 5 part\n",
    "            if len(parts) < 5:\n",
    "                continue\n",
    "\n",
    "            # Format waktu: gabungan parts[0] dan parts[1]\n",
    "            time_str = parts[0].strip() + ' ' + parts[1].strip()\n",
    "\n",
    "            # Level log (INFO, ERROR, dst.)\n",
    "            level_str = parts[2].strip()\n",
    "\n",
    "            # Thread dalam tanda [ ]\n",
    "            if '[' in line and ']' in line:\n",
    "                thread_str = line.split('[')[1].split(']')[0]\n",
    "            else:\n",
    "                thread_str = None\n",
    "\n",
    "            # Class logger\n",
    "            log_class_str = parts[4].strip()\n",
    "\n",
    "            # Message: ambil bagian setelah 5 spasi pertama\n",
    "            msg = line.split(' ', 5)[-1].strip()\n",
    "\n",
    "            # Tambahkan ke list\n",
    "            time.append(time_str)\n",
    "            level.append(level_str)\n",
    "            thread.append(thread_str)\n",
    "            log_class.append(log_class_str)\n",
    "            message.append(msg)\n",
    "\n",
    "        except Exception as e:\n",
    "            print(f\"Baris gagal diparse:\\n{line}\\nError: {e}\")\n",
    "\n",
    "    return time, level, thread, log_class, message\n",
    "\n",
    "time, level, thread, log_class, message = parse_logs(raw_logs)\n",
    "\n",
    "# Buat DataFrame\n",
    "df = pd.DataFrame({\n",
    "    'time': time,\n",
    "    'level': level,\n",
    "    'thread': thread,\n",
    "    'log_class': log_class,\n",
    "    'message': message\n",
    "})\n",
    "\n",
    "# Parsing waktu\n",
    "df['time'] = pd.to_datetime(df['time'], format='mixed', errors='coerce')\n",
    "df = df.dropna(subset=['time'])\n",
    "\n",
    "# Tampilkan 5 baris awal\n",
    "print(df.head())"
   ]
  },
  {
   "cell_type": "markdown",
   "id": "2c57e526-08be-4b08-9c43-8d302a83345e",
   "metadata": {},
   "source": [
    "### Gunakan Sample"
   ]
  },
  {
   "cell_type": "code",
   "execution_count": null,
   "id": "8629b66b-dc1c-4176-b907-a4a0a5d2f430",
   "metadata": {},
   "outputs": [],
   "source": [
    "# Misalkan file log pertama yang ditemukan\n",
    "#log_file = files[1]"
   ]
  },
  {
   "cell_type": "code",
   "execution_count": null,
   "id": "a2b8fddc-7f22-4da1-a5d3-cc28381511be",
   "metadata": {},
   "outputs": [],
   "source": [
    "\"\"\"\n",
    "# Buka dan baca beberapa baris pertama untuk melihat format file log\n",
    "with open(log_file, 'r') as f:\n",
    "    # Baca 10 baris pertama dari file log\n",
    "    sample_lines = [f.readline() for _ in range(10)]\n",
    "\n",
    "# Tampilkan baris pertama\n",
    "#print(\"Contoh beberapa baris pertama dari file log:\")\n",
    "#for line in sample_lines:\n",
    "#    print(line.strip())\n",
    "\n",
    "time = []\n",
    "level = []\n",
    "thread = []\n",
    "log_class = []\n",
    "message = []\n",
    "for line in sample_lines:\n",
    "    parts = line.split(\" \")\n",
    "    time.append(parts[0].strip() + ' ' + parts[1].strip())\n",
    "    level.append(parts[2].strip())\n",
    "    thread.append(line.split('[')[1].split(']')[0])\n",
    "    log_class.append(parts[4].strip())\n",
    "    message.append(line.split(' ',5)[-1])\n",
    "\n",
    "df = pd.DataFrame({\n",
    "    'time': time,\n",
    "    'level': level,\n",
    "    'thread': thread,\n",
    "    'log_class': log_class,\n",
    "    'message': message\n",
    "})\n",
    "\n",
    "df['time'] = pd.to_datetime(df['time'], format='%Y-%m-%d %H:%M:%S,%f')\n",
    "\n",
    "\n",
    "df.head()\n",
    "\"\"\""
   ]
  },
  {
   "cell_type": "markdown",
   "id": "59fd820b-8cd4-4c27-8fb3-8be7c0b9409b",
   "metadata": {},
   "source": [
    "# 2. Transform"
   ]
  },
  {
   "cell_type": "code",
   "execution_count": null,
   "id": "500c5799-ef69-42cb-974b-24a0759c0c2f",
   "metadata": {},
   "outputs": [],
   "source": [
    "df['date'] = df['time'].dt.date"
   ]
  },
  {
   "cell_type": "code",
   "execution_count": null,
   "id": "ed7eaef7-3fe5-4e72-9e39-963427ff8e46",
   "metadata": {},
   "outputs": [],
   "source": [
    "aktivitas_per_hari = df.groupby(['date']).size().reset_index(name='jumlah_log')\n",
    "aktivitas_per_hari"
   ]
  },
  {
   "cell_type": "code",
   "execution_count": null,
   "id": "d29ddfe0-8199-4ef3-beaa-ecc86898c462",
   "metadata": {},
   "outputs": [],
   "source": [
    "aktivitas_level_per_hari = df.groupby(['date', 'level']).size().reset_index(name='jumlah_log')\n",
    "aktivitas_level_per_hari"
   ]
  },
  {
   "cell_type": "markdown",
   "id": "9b0d8a20-0b22-455d-91e9-6284c64f47b6",
   "metadata": {},
   "source": [
    "# 3. Load"
   ]
  },
  {
   "cell_type": "code",
   "execution_count": null,
   "id": "205f0139-01be-4a7d-8c6d-170327743d0d",
   "metadata": {},
   "outputs": [],
   "source": [
    "aktivitas_per_hari.to_csv(\"aktivitas_per_hari.csv\", index=False)\n",
    "aktivitas_level_per_hari.to_csv(\"aktivitas_per_hari_berdasarkan_level.csv\", index=False)"
   ]
  },
  {
   "cell_type": "markdown",
   "id": "c1c6743d-1edc-40c5-8bdd-1b0c98653250",
   "metadata": {},
   "source": [
    "# 4. Visiualize"
   ]
  },
  {
   "cell_type": "markdown",
   "id": "05670d49-5b8b-4894-8c47-1387486801d0",
   "metadata": {},
   "source": [
    "#### "
   ]
  },
  {
   "cell_type": "code",
   "execution_count": null,
   "id": "94b03409-5a9e-470b-8c9f-d083ab71e70d",
   "metadata": {},
   "outputs": [],
   "source": [
    "aktivitas_per_hari.plot(x='date', y='jumlah_log', kind='bar', figsize=(10,5))\n",
    "plt.title(\"Jumlah Log Aktivitas per Hari\")\n",
    "plt.xlabel(\"Tanggal\")\n",
    "plt.ylabel(\"Jumlah Log\")\n",
    "plt.xticks(rotation=45)\n",
    "plt.tight_layout()\n",
    "plt.show()"
   ]
  },
  {
   "cell_type": "code",
   "execution_count": null,
   "id": "c271ef6d-9f1b-4217-8c37-c7a9a42829c1",
   "metadata": {},
   "outputs": [],
   "source": [
    "pivot = aktivitas_level_per_hari.pivot(index='date', columns='level', values='jumlah_log').fillna(0)\n",
    "pivot.plot(kind='bar', stacked=True, figsize=(10,6))\n",
    "plt.title(\"Log Level per Hari\")\n",
    "plt.xlabel(\"Tanggal\")\n",
    "plt.ylabel(\"Jumlah Log\")\n",
    "plt.xticks(rotation=45)\n",
    "plt.legend(title=\"Level\")\n",
    "plt.tight_layout()\n",
    "plt.show()\n"
   ]
  },
  {
   "cell_type": "code",
   "execution_count": null,
   "id": "5bde42f0-534f-4e68-9806-c8bdbdcd91e2",
   "metadata": {},
   "outputs": [],
   "source": [
    "# Filter data untuk mengecualikan level 'INFO'\n",
    "filtered_df = aktivitas_level_per_hari[aktivitas_level_per_hari['level'] != 'INFO']\n",
    "\n",
    "# Pivot data yang sudah difilter\n",
    "pivot = filtered_df.pivot(index='date', columns='level', values='jumlah_log').fillna(0)\n",
    "\n",
    "# Plot stacked bar\n",
    "pivot.plot(kind='bar', stacked=True, figsize=(10,6))\n",
    "plt.title(\"Log Level per Hari (Tanpa INFO)\")\n",
    "plt.xlabel(\"Tanggal\")\n",
    "plt.ylabel(\"Jumlah Log\")\n",
    "plt.xticks(rotation=45)\n",
    "plt.legend(title=\"Level\")\n",
    "plt.tight_layout()\n",
    "plt.show()\n"
   ]
  },
  {
   "cell_type": "markdown",
   "id": "6b591f96-ca91-4bae-86d5-4e5db2d9ee07",
   "metadata": {},
   "source": [
    "### Melihat Jumlah Log per Level"
   ]
  },
  {
   "cell_type": "code",
   "execution_count": null,
   "id": "7a45c739-598f-4760-bc7e-54f6be70f5fd",
   "metadata": {},
   "outputs": [],
   "source": [
    "df['level'].value_counts()"
   ]
  },
  {
   "cell_type": "code",
   "execution_count": null,
   "id": "10ef52aa-ebcd-48a7-ad80-e54b5862ad3c",
   "metadata": {},
   "outputs": [],
   "source": [
    "import matplotlib.pyplot as plt\n",
    "\n",
    "df['level'].value_counts().plot(kind='bar')\n",
    "plt.title('Jumlah Log per Level')\n",
    "plt.xlabel('Level')\n",
    "plt.ylabel('Jumlah')\n",
    "plt.show()"
   ]
  },
  {
   "cell_type": "markdown",
   "id": "ce8e6f2a-58df-4876-9a43-08cb817addcb",
   "metadata": {},
   "source": [
    "### Melihat Aktivitas Log"
   ]
  },
  {
   "cell_type": "code",
   "execution_count": null,
   "id": "a94b35b8-b810-4195-9612-38107267d59b",
   "metadata": {},
   "outputs": [],
   "source": [
    "type(df.time[0])"
   ]
  },
  {
   "cell_type": "code",
   "execution_count": null,
   "id": "077f9dab-80d5-4972-b74e-e929478a4d02",
   "metadata": {},
   "outputs": [],
   "source": [
    "print(df['time'].dt.floor('h').nunique())"
   ]
  },
  {
   "cell_type": "code",
   "execution_count": null,
   "id": "ac5e2afa-4a50-4220-8f11-1bf41de5cb4f",
   "metadata": {},
   "outputs": [],
   "source": [
    "df.set_index('time').resample('h').size().plot(marker='o')\n",
    "plt.title('Aktivitas Log per Jam')\n",
    "plt.xlabel('Waktu')\n",
    "plt.ylabel('Jumlah Log')\n",
    "plt.show()"
   ]
  },
  {
   "cell_type": "code",
   "execution_count": null,
   "id": "ecdf3752-a898-404e-a51f-03b6961f7f04",
   "metadata": {},
   "outputs": [],
   "source": []
  }
 ],
 "metadata": {
  "kernelspec": {
   "display_name": "Python 3 (ipykernel)",
   "language": "python",
   "name": "python3"
  },
  "language_info": {
   "codemirror_mode": {
    "name": "ipython",
    "version": 3
   },
   "file_extension": ".py",
   "mimetype": "text/x-python",
   "name": "python",
   "nbconvert_exporter": "python",
   "pygments_lexer": "ipython3",
   "version": "3.12.9"
  }
 },
 "nbformat": 4,
 "nbformat_minor": 5
}
